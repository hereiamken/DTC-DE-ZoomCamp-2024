{
  "nbformat": 4,
  "nbformat_minor": 0,
  "metadata": {
    "colab": {
      "provenance": []
    },
    "kernelspec": {
      "name": "python3",
      "display_name": "Python 3"
    },
    "language_info": {
      "name": "python"
    }
  },
  "cells": [
    {
      "cell_type": "markdown",
      "source": [
        "# **Homework**: Data talks club data engineering zoomcamp Data loading workshop\n",
        "\n",
        "Hello folks, let's practice what we learned - Loading data with the best practices of data engineering.\n",
        "\n",
        "Here are the exercises we will do\n",
        "\n",
        "\n"
      ],
      "metadata": {
        "id": "mrTFv5nPClXh"
      }
    },
    {
      "cell_type": "markdown",
      "source": [
        "# 1. Use a generator\n",
        "\n",
        "Remember the concept of generator? Let's practice using them to futher our understanding of how they work.\n",
        "\n",
        "Let's define a generator and then run it as practice.\n",
        "\n",
        "**Answer the following questions:**\n",
        "\n",
        "- **Question 1: What is the sum of the outputs of the generator for limit = 5?**\n",
        "- **Question 2: What is the 13th number yielded**\n",
        "\n",
        "I suggest practicing these questions without GPT as the purpose is to further your learning."
      ],
      "metadata": {
        "id": "wLF4iXf-NR7t"
      }
    },
    {
      "cell_type": "code",
      "source": [
        "def square_root_generator(limit):\n",
        "    n = 1\n",
        "    while n <= limit:\n",
        "        yield n ** 0.5\n",
        "        n += 1\n",
        "\n",
        "# Example usage:\n",
        "limit = 5\n",
        "generator = square_root_generator(limit)\n",
        "sum = 0\n",
        "for sqrt_value in generator:\n",
        "    sum = sum + sqrt_value\n",
        "print(sum)"
      ],
      "metadata": {
        "colab": {
          "base_uri": "https://localhost:8080/"
        },
        "id": "wLng-bDJN4jf",
        "outputId": "1b368720-bb67-418c-8ac3-af6a9a72397a"
      },
      "execution_count": 2,
      "outputs": [
        {
          "output_type": "stream",
          "name": "stdout",
          "text": [
            "8.382332347441762\n"
          ]
        }
      ]
    },
    {
      "cell_type": "markdown",
      "source": [],
      "metadata": {
        "id": "xbe3q55zN43j"
      }
    },
    {
      "cell_type": "markdown",
      "source": [
        "# 2. Append a generator to a table with existing data\n",
        "\n",
        "\n",
        "Below you have 2 generators. You will be tasked to load them to duckdb and answer some questions from the data\n",
        "\n",
        "1. Load the first generator and calculate the sum of ages of all people. Make sure to only load it once.\n",
        "2. Append the second generator to the same table as the first.\n",
        "3. **After correctly appending the data, calculate the sum of all ages of people.**\n",
        "\n",
        "\n"
      ],
      "metadata": {
        "id": "vjWhILzGJMpK"
      }
    },
    {
      "cell_type": "code",
      "execution_count": 7,
      "metadata": {
        "colab": {
          "base_uri": "https://localhost:8080/"
        },
        "id": "2MoaQcdLBEk6",
        "outputId": "36663908-eb3d-44e9-c339-92a9f02d8c44"
      },
      "outputs": [
        {
          "output_type": "stream",
          "name": "stdout",
          "text": [
            "{'ID': 1, 'Name': 'Person_1', 'Age': 26, 'City': 'City_A'}\n",
            "{'ID': 2, 'Name': 'Person_2', 'Age': 27, 'City': 'City_A'}\n",
            "{'ID': 3, 'Name': 'Person_3', 'Age': 28, 'City': 'City_A'}\n",
            "{'ID': 4, 'Name': 'Person_4', 'Age': 29, 'City': 'City_A'}\n",
            "{'ID': 5, 'Name': 'Person_5', 'Age': 30, 'City': 'City_A'}\n",
            "{'ID': 3, 'Name': 'Person_3', 'Age': 33, 'City': 'City_B', 'Occupation': 'Job_3'}\n",
            "{'ID': 4, 'Name': 'Person_4', 'Age': 34, 'City': 'City_B', 'Occupation': 'Job_4'}\n",
            "{'ID': 5, 'Name': 'Person_5', 'Age': 35, 'City': 'City_B', 'Occupation': 'Job_5'}\n",
            "{'ID': 6, 'Name': 'Person_6', 'Age': 36, 'City': 'City_B', 'Occupation': 'Job_6'}\n",
            "{'ID': 7, 'Name': 'Person_7', 'Age': 37, 'City': 'City_B', 'Occupation': 'Job_7'}\n",
            "{'ID': 8, 'Name': 'Person_8', 'Age': 38, 'City': 'City_B', 'Occupation': 'Job_8'}\n"
          ]
        }
      ],
      "source": [
        "def people_1():\n",
        "    for i in range(1, 6):\n",
        "        yield {\"ID\": i, \"Name\": f\"Person_{i}\", \"Age\": 25 + i, \"City\": \"City_A\"}\n",
        "\n",
        "for person in people_1():\n",
        "    print(person)\n",
        "\n",
        "\n",
        "def people_2():\n",
        "    for i in range(3, 9):\n",
        "        yield {\"ID\": i, \"Name\": f\"Person_{i}\", \"Age\": 30 + i, \"City\": \"City_B\", \"Occupation\": f\"Job_{i}\"}\n",
        "\n",
        "\n",
        "for person in people_2():\n",
        "    print(person)\n"
      ]
    },
    {
      "cell_type": "markdown",
      "source": [],
      "metadata": {
        "id": "vtdTIm4fvQCN"
      }
    },
    {
      "cell_type": "markdown",
      "source": [
        "# 3. Merge a generator\n",
        "\n",
        "Re-use the generators from Exercise 2.\n",
        "\n",
        "A table's primary key needs to be created from the start, so load your data to a new table with primary key ID.\n",
        "\n",
        "Load your first generator first, and then load the second one with merge. Since they have overlapping IDs, some of the records from the first load should be replaced by the ones from the second load.\n",
        "\n",
        "After loading, you should have a total of 8 records, and ID 3 should have age 33.\n",
        "\n",
        "Question: **Calculate the sum of ages of all the people loaded as described above.**\n"
      ],
      "metadata": {
        "id": "pY4cFAWOSwN1"
      }
    },
    {
      "cell_type": "markdown",
      "source": [
        "# Solution: First make sure that the following modules are installed:"
      ],
      "metadata": {
        "id": "kKB2GTB9oVjr"
      }
    },
    {
      "cell_type": "code",
      "source": [
        "#Install the dependencies\n",
        "%%capture\n",
        "!pip install dlt[duckdb]"
      ],
      "metadata": {
        "id": "xTVvtyqrfVNq"
      },
      "execution_count": 3,
      "outputs": []
    },
    {
      "cell_type": "markdown",
      "source": [
        "## Question 1: What is the sum of the outputs of the generator for limit = 5?"
      ],
      "metadata": {
        "id": "2N4sGG-znmnz"
      }
    },
    {
      "cell_type": "code",
      "source": [
        "def square_root_generator(limit):\n",
        "    n = 1\n",
        "    while n <= limit:\n",
        "        yield n ** 0.5\n",
        "        n += 1\n",
        "\n",
        "# Example usage:\n",
        "limit = 5\n",
        "generator = square_root_generator(limit)\n",
        "sum = 0\n",
        "for sqrt_value in generator:\n",
        "    sum = sum + sqrt_value\n",
        "print(sum)"
      ],
      "metadata": {
        "id": "a2-PRBAkGC2K",
        "colab": {
          "base_uri": "https://localhost:8080/"
        },
        "outputId": "e5215c5a-3f5a-425d-887d-11eca7a8a711"
      },
      "execution_count": 8,
      "outputs": [
        {
          "output_type": "stream",
          "name": "stdout",
          "text": [
            "8.382332347441762\n"
          ]
        }
      ]
    },
    {
      "cell_type": "markdown",
      "source": [
        "## Question 2: What is the 13th number yielded by the generator?"
      ],
      "metadata": {
        "id": "fCFXTxXnoBQF"
      }
    },
    {
      "cell_type": "code",
      "source": [
        "limit = 13\n",
        "generator = square_root_generator(limit)\n",
        "gen = list(generator)\n",
        "print(gen[-1])"
      ],
      "metadata": {
        "colab": {
          "base_uri": "https://localhost:8080/"
        },
        "id": "d9y-widyn7q1",
        "outputId": "b01980ab-24ab-4101-d02e-df5e19c3280d"
      },
      "execution_count": 16,
      "outputs": [
        {
          "output_type": "stream",
          "name": "stdout",
          "text": [
            "3.605551275463989\n"
          ]
        }
      ]
    },
    {
      "cell_type": "markdown",
      "source": [
        "## Question 3: Append the 2 generators. After correctly appending the data, calculate the sum of all ages of people."
      ],
      "metadata": {
        "id": "mDG_gcPOrOMo"
      }
    },
    {
      "cell_type": "code",
      "source": [
        "import dlt\n",
        "\n",
        "# define the connection to load to.\n",
        "# We now use duckdb, but you can switch to Bigquery later\n",
        "generators_pipeline = dlt.pipeline(destination='duckdb', dataset_name='generators')\n",
        "\n",
        "# load generator people_1() to a table at the pipeline destnation as follows:\n",
        "info = generators_pipeline.run(people_1(), table_name=\"question_3\", write_disposition=\"append\")\n",
        "print(info)\n",
        "\n",
        "# load generator people_2() to a table at the pipeline destnation as follows:\n",
        "info = generators_pipeline.run(people_2(), table_name=\"question_3\", write_disposition=\"append\")\n",
        "print(info)"
      ],
      "metadata": {
        "colab": {
          "base_uri": "https://localhost:8080/"
        },
        "id": "jBMC8F6YyLRf",
        "outputId": "7c88afae-2a69-4efc-94ac-bf29704ba881"
      },
      "execution_count": 17,
      "outputs": [
        {
          "output_type": "stream",
          "name": "stdout",
          "text": [
            "Pipeline dlt_colab_kernel_launcher load step completed in 0.43 seconds\n",
            "1 load package(s) were loaded to destination duckdb and into dataset generators\n",
            "The duckdb destination used duckdb:////content/dlt_colab_kernel_launcher.duckdb location to store data\n",
            "Load package 1708185798.979599 is LOADED and contains no failed jobs\n",
            "Pipeline dlt_colab_kernel_launcher load step completed in 0.36 seconds\n",
            "1 load package(s) were loaded to destination duckdb and into dataset generators\n",
            "The duckdb destination used duckdb:////content/dlt_colab_kernel_launcher.duckdb location to store data\n",
            "Load package 1708185799.8777313 is LOADED and contains no failed jobs\n"
          ]
        }
      ]
    },
    {
      "cell_type": "code",
      "source": [
        "import duckdb\n",
        "\n",
        "conn = duckdb.connect(f\"{generators_pipeline.pipeline_name}.duckdb\")\n",
        "\n",
        "# let's see the tables\n",
        "conn.sql(f\"SET search_path = '{generators_pipeline.dataset_name}'\")\n",
        "print(\"Loaded tables: \")\n",
        "display(conn.sql(\"show tables\"))\n",
        "\n",
        "print(\"\\n Question 3 table below:\")\n",
        "total_ages = conn.sql(\"SELECT sum(age) FROM generators.question_3\")\n",
        "display(total_ages)"
      ],
      "metadata": {
        "colab": {
          "base_uri": "https://localhost:8080/",
          "height": 329
        },
        "id": "EHDrW2y6zAPN",
        "outputId": "14e3b01f-e0af-4d55-8223-69eec0940c49"
      },
      "execution_count": 22,
      "outputs": [
        {
          "output_type": "stream",
          "name": "stdout",
          "text": [
            "Loaded tables: \n"
          ]
        },
        {
          "output_type": "display_data",
          "data": {
            "text/plain": [
              "┌─────────────────────┐\n",
              "│        name         │\n",
              "│       varchar       │\n",
              "├─────────────────────┤\n",
              "│ _dlt_loads          │\n",
              "│ _dlt_pipeline_state │\n",
              "│ _dlt_version        │\n",
              "│ question_3          │\n",
              "└─────────────────────┘"
            ]
          },
          "metadata": {}
        },
        {
          "output_type": "stream",
          "name": "stdout",
          "text": [
            "\n",
            " Question 3 table below:\n"
          ]
        },
        {
          "output_type": "display_data",
          "data": {
            "text/plain": [
              "┌──────────┐\n",
              "│ sum(age) │\n",
              "│  int128  │\n",
              "├──────────┤\n",
              "│      353 │\n",
              "└──────────┘"
            ]
          },
          "metadata": {}
        }
      ]
    },
    {
      "cell_type": "markdown",
      "source": [
        "## Question 4: Merge the 2 generators using the ID column. Calculate the sum of ages of all the people loaded as described above."
      ],
      "metadata": {
        "id": "7atOstiE1ect"
      }
    },
    {
      "cell_type": "code",
      "source": [
        "merge_pipeline = dlt.pipeline(destination=\"duckdb\", dataset_name=\"generators\")\n",
        "info = merge_pipeline.run(\n",
        "    people_1(),\n",
        "    table_name=\"question_4\",\n",
        "    write_disposition=\"merge\",\n",
        "    primary_key=\"id\",\n",
        ")\n",
        "print(info)\n",
        "info = merge_pipeline.run(\n",
        "    people_2(),\n",
        "    table_name=\"question_4\",\n",
        "    write_disposition=\"merge\",\n",
        "    primary_key=\"id\",\n",
        ")\n",
        "print(info)"
      ],
      "metadata": {
        "colab": {
          "base_uri": "https://localhost:8080/"
        },
        "id": "tezNNnQjrOo1",
        "outputId": "0eea31ed-0fcd-43db-c8c9-ed454366be65"
      },
      "execution_count": 29,
      "outputs": [
        {
          "output_type": "stream",
          "name": "stdout",
          "text": [
            "Pipeline dlt_colab_kernel_launcher load step completed in 0.34 seconds\n",
            "1 load package(s) were loaded to destination duckdb and into dataset generators\n",
            "The duckdb destination used duckdb:////content/dlt_colab_kernel_launcher.duckdb location to store data\n",
            "Load package 1708186512.0167751 is LOADED and contains no failed jobs\n",
            "Pipeline dlt_colab_kernel_launcher load step completed in 0.42 seconds\n",
            "1 load package(s) were loaded to destination duckdb and into dataset generators\n",
            "The duckdb destination used duckdb:////content/dlt_colab_kernel_launcher.duckdb location to store data\n",
            "Load package 1708186512.768593 is LOADED and contains no failed jobs\n"
          ]
        }
      ]
    },
    {
      "cell_type": "code",
      "source": [
        "conn = duckdb.connect(f\"{merge_pipeline.pipeline_name}.duckdb\")\n",
        "\n",
        "# let's see the tables\n",
        "conn.sql(f\"SET search_path = '{merge_pipeline.dataset_name}'\")\n",
        "print(\"Loaded tables: \")\n",
        "display(conn.sql(\"show tables\"))\n",
        "\n",
        "total_ages = conn.sql(\"SELECT * FROM generators.question_4\")\n",
        "display(total_ages)\n",
        "\n",
        "print(\"\\n Question 4 table below:\")\n",
        "total_ages = conn.sql(\"SELECT sum(age) FROM generators.question_4\")\n",
        "display(total_ages)"
      ],
      "metadata": {
        "colab": {
          "base_uri": "https://localhost:8080/",
          "height": 573
        },
        "id": "m688kYaY1lMc",
        "outputId": "97450a13-8847-4e98-a6ce-1caea155a171"
      },
      "execution_count": 30,
      "outputs": [
        {
          "output_type": "stream",
          "name": "stdout",
          "text": [
            "Loaded tables: \n"
          ]
        },
        {
          "output_type": "display_data",
          "data": {
            "text/plain": [
              "┌─────────────────────┐\n",
              "│        name         │\n",
              "│       varchar       │\n",
              "├─────────────────────┤\n",
              "│ _dlt_loads          │\n",
              "│ _dlt_pipeline_state │\n",
              "│ _dlt_version        │\n",
              "│ question_3          │\n",
              "│ question_4          │\n",
              "└─────────────────────┘"
            ]
          },
          "metadata": {}
        },
        {
          "output_type": "display_data",
          "data": {
            "text/plain": [
              "┌───────┬──────────┬───────┬─────────┬────────────────────┬────────────────┬────────────┐\n",
              "│  id   │   name   │  age  │  city   │    _dlt_load_id    │    _dlt_id     │ occupation │\n",
              "│ int64 │ varchar  │ int64 │ varchar │      varchar       │    varchar     │  varchar   │\n",
              "├───────┼──────────┼───────┼─────────┼────────────────────┼────────────────┼────────────┤\n",
              "│     1 │ Person_1 │    26 │ City_A  │ 1708186512.0167751 │ 8lQbME5iEVF6gg │ NULL       │\n",
              "│     2 │ Person_2 │    27 │ City_A  │ 1708186512.0167751 │ 6PI3U9AOfvqphw │ NULL       │\n",
              "│     8 │ Person_8 │    38 │ City_B  │ 1708186512.768593  │ rkg/r4kxfxInVA │ Job_8      │\n",
              "│     4 │ Person_4 │    34 │ City_B  │ 1708186512.768593  │ n4YH+bHA6yfCYw │ Job_4      │\n",
              "│     5 │ Person_5 │    35 │ City_B  │ 1708186512.768593  │ 0FEXUqdWQLRuZw │ Job_5      │\n",
              "│     7 │ Person_7 │    37 │ City_B  │ 1708186512.768593  │ 2OMmWblOoqp7mQ │ Job_7      │\n",
              "│     3 │ Person_3 │    33 │ City_B  │ 1708186512.768593  │ 6zxl0FtdiMI8DQ │ Job_3      │\n",
              "│     6 │ Person_6 │    36 │ City_B  │ 1708186512.768593  │ fiPvMOpOuQLoXQ │ Job_6      │\n",
              "└───────┴──────────┴───────┴─────────┴────────────────────┴────────────────┴────────────┘"
            ]
          },
          "metadata": {}
        },
        {
          "output_type": "stream",
          "name": "stdout",
          "text": [
            "\n",
            " Question 4 table below:\n"
          ]
        },
        {
          "output_type": "display_data",
          "data": {
            "text/plain": [
              "┌──────────┐\n",
              "│ sum(age) │\n",
              "│  int128  │\n",
              "├──────────┤\n",
              "│      266 │\n",
              "└──────────┘"
            ]
          },
          "metadata": {}
        }
      ]
    },
    {
      "cell_type": "markdown",
      "source": [
        "Questions? difficulties? We are here to help.\n",
        "- DTC data engineering course channel: https://datatalks-club.slack.com/archives/C01FABYF2RG\n",
        "- dlt's DTC cohort channel: https://dlthub-community.slack.com/archives/C06GAEX2VNX"
      ],
      "metadata": {
        "id": "PoTJu4kbGG0z"
      }
    }
  ]
}